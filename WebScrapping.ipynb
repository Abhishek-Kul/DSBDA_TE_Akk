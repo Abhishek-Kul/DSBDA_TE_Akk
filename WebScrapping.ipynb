{
  "nbformat": 4,
  "nbformat_minor": 0,
  "metadata": {
    "colab": {
      "provenance": []
    },
    "kernelspec": {
      "name": "python3",
      "display_name": "Python 3"
    },
    "language_info": {
      "name": "python"
    }
  },
  "cells": [
    {
      "cell_type": "code",
      "execution_count": 11,
      "metadata": {
        "id": "DddWwUi2xXTj"
      },
      "outputs": [],
      "source": [
        "import requests\n",
        "from bs4 import BeautifulSoup\n",
        "\n",
        "HEADERS = {'User-Agent': 'Mozilla/5.0 (Windows NT 10.0; Win64; x64) AppleWebKit/537.36 (KHTML, like Gecko) Chrome/90.0.4430.212 Safari/537.36',\n",
        "           'Accept-Language': 'en-US, en;q=0.5'}\n",
        "\n",
        "def getdata(site_url):\n",
        "    res = requests.get(site_url, headers=HEADERS)\n",
        "    return res.text\n",
        "\n",
        "def gethtml(site_url):\n",
        "    data = getdata(site_url)\n",
        "    soup = BeautifulSoup(data, 'html.parser')\n",
        "    return soup\n",
        "\n",
        "site_url = \"https://www.amazon.in/Oneplus-Bluetooth-Wireless-Earphones-Bombastic/dp/B09TVVGXWS/ref=sr_1_3?crid=3PTCVTVIUPOVB&dib=eyJ2IjoiMSJ9.0UYnc9EVIIjOGjzCcfbbgHDb-DJ0YZotK9mq_UGUw8bKvT_CjYpJUopbgH6B3y0cLp6tJErDp7xxmPXtL-X8b3kq8KBhpyZKpbvSS0SWczN9snTHxQNta21BsC4wiPlCbTGMRUn3hHFhNSsOIlQr5wJN8evfA8LVoxB2LqdqgxSDRimup-KlPKG3NQhnOl0pU43Q4FL1iIGLMmwRW7yKuu-6jZz8YQqN81Xx-QSsUqw.QpCsQOiTloEV0vsZBM0_jjBr7DMgbgHmXt_QfDHmcR0&dib_tag=se&keywords=oneplus%2Bbullets%2Bwireless%2Bz2&qid=1714674953&sprefix=%2Caps%2C236&sr=8-3&th=1\"\n",
        "soup = gethtml(site_url)\n",
        "\n",
        "def getCustomerNameAndRatingAndReview(soup):\n",
        "    customer_list = []\n",
        "    for item in soup.find_all(\"div\", class_=\"a-section review aok-relative\"):\n",
        "        name = item.find(\"span\", class_=\"a-profile-name\").get_text()\n",
        "        rating = float(item.find(\"span\", class_=\"a-icon-alt\").get_text().split()[0])\n",
        "        review = item.find(\"div\", class_=\"a-expander-content reviewText review-text-content a-expander-partial-collapse-content\").get_text()\n",
        "        customer_list.append((name, rating, review))\n",
        "    return customer_list\n",
        "\n",
        "customer_res = getCustomerNameAndRatingAndReview(soup)\n",
        "for name, rating, review in customer_res:\n",
        "    print(\"Name:\", name)\n",
        "    print(\"Rating:\", rating)\n",
        "    print(\"Reviews:\", review)\n",
        "    print()\n"
      ]
    }
  ]
}